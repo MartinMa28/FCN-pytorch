{
 "cells": [
  {
   "cell_type": "code",
   "execution_count": 1,
   "metadata": {},
   "outputs": [],
   "source": [
    "import numpy as np\n",
    "import matplotlib.pyplot as plt"
   ]
  },
  {
   "cell_type": "code",
   "execution_count": 9,
   "metadata": {},
   "outputs": [],
   "source": [
    "# load numpy results\n",
    "# epoch_acc = np.load('./FCNs-Module/epoch_accuracy.npy')\n",
    "# epoch_iou = np.load('./FCNs-Module/epoch_iou.npy')\n",
    "# epoch_mean_iou = np.load('./FCNs-Module/epoch_mean_iou.npy')\n",
    "\n",
    "# bi_epoch_acc = np.load('./epoch_acc_scaled_bi.npy')\n",
    "# bi_epoch_iou = np.load('./epoch_iou_scaled_bi.npy')\n",
    "# bi_epoch_mean_iou = np.load('./epoch_mean_iou_scaled_bi.npy')\n",
    "epoch_acc = np.load('./scores/FCN8s-BN-Aug/epoch_accuracy.npy')\n",
    "epoch_iou = np.load('./scores/FCN8s-BN-Aug/epoch_iou.npy')\n",
    "epoch_mean_iou = np.load('./scores/FCN8s-BN-Aug/epoch_mean_iou.npy')"
   ]
  },
  {
   "cell_type": "code",
   "execution_count": 3,
   "metadata": {},
   "outputs": [],
   "source": [
    "# epoch_acc_aug = np.load('./FCN8s_Aug/epoch_accuracy.npy')\n",
    "# epoch_iou_aug = np.load('./FCN8s_Aug/epoch_iou.npy')\n",
    "# epoch_mean_iou_aug = np.load('./FCN8s_Aug/epoch_mean_iou.npy')"
   ]
  },
  {
   "cell_type": "code",
   "execution_count": 4,
   "metadata": {},
   "outputs": [],
   "source": [
    "val_epoch_iou = epoch_iou[1, 49]\n",
    "#val_epoch_iou_bi = bi_epoch_iou[1, 74]"
   ]
  },
  {
   "cell_type": "code",
   "execution_count": 5,
   "metadata": {},
   "outputs": [],
   "source": [
    "#val_epoch_iou_aug = epoch_iou_aug[1, 49]"
   ]
  },
  {
   "cell_type": "code",
   "execution_count": 6,
   "metadata": {},
   "outputs": [
    {
     "data": {
      "image/png": "[encoded data removed]",
      "text/plain": [
       "<Figure size 432x288 with 1 Axes>"
      ]
     },
     "metadata": {
      "needs_background": "light"
     },
     "output_type": "display_data"
    }
   ],
   "source": [
    "plt.scatter(x=np.arange(0, 21), y=val_epoch_iou, c='red')\n",
    "# plt.scatter(x=np.arange(0, 21), y=val_epoch_iou_bi, c='green')\n",
    "# plt.scatter(x=np.arange(0, 21), y=val_epoch_iou_aug, c='blue')\n",
    "plt.show()"
   ]
  },
  {
   "cell_type": "code",
   "execution_count": 7,
   "metadata": {},
   "outputs": [
    {
     "data": {
      "image/png": "[encoded data removed]",
      "text/plain": [
       "<Figure size 432x288 with 1 Axes>"
      ]
     },
     "metadata": {
      "needs_background": "light"
     },
     "output_type": "display_data"
    }
   ],
   "source": [
    "val_epoch_acc = epoch_acc[1][:50]\n",
    "# val_epoch_acc_bi = bi_epoch_acc[1][:50]\n",
    "# val_epoch_acc_aug = epoch_acc_aug[1]\n",
    "\n",
    "plt.scatter(x=np.arange(0, 50), y=val_epoch_acc, c='red')\n",
    "# plt.scatter(x=np.arange(0, 50), y=val_epoch_acc_bi, c='green')\n",
    "# plt.scatter(x=np.arange(0, 50), y=val_epoch_acc_aug, c='blue')\n",
    "plt.show()"
   ]
  },
  {
   "cell_type": "code",
   "execution_count": 10,
   "metadata": {},
   "outputs": [
    {
     "data": {
      "image/png": "[encoded data removed]",
      "text/plain": [
       "<Figure size 432x288 with 1 Axes>"
      ]
     },
     "metadata": {
      "needs_background": "light"
     },
     "output_type": "display_data"
    }
   ],
   "source": [
    "val_epoch_mean_iou = epoch_mean_iou[1]\n",
    "# val_epoch_mean_iou_bi = bi_epoch_mean_iou[1][:50]\n",
    "# val_epoch_mean_iou_aug = epoch_mean_iou_aug[1]\n",
    "plt.scatter(x=np.arange(0, 50), y=val_epoch_mean_iou, c='red')\n",
    "# plt.scatter(x=np.arange(0, 50), y=val_epoch_mean_iou_bi, c='green')\n",
    "# plt.scatter(x=np.arange(0, 50), y=val_epoch_mean_iou_aug, c='blue')\n",
    "plt.show()"
   ]
  }
 ],
 "metadata": {
  "kernelspec": {
   "display_name": "Python 3",
   "language": "python",
   "name": "python3"
  },
  "language_info": {
   "codemirror_mode": {
    "name": "ipython",
    "version": 3
   },
   "file_extension": ".py",
   "mimetype": "text/x-python",
   "name": "python",
   "nbconvert_exporter": "python",
   "pygments_lexer": "ipython3",
   "version": "3.6.7"
  }
 },
 "nbformat": 4,
 "nbformat_minor": 2
}
